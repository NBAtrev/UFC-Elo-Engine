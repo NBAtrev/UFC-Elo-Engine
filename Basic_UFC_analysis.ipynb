{
 "cells": [
  {
   "cell_type": "code",
   "execution_count": 1,
   "id": "9e521026",
   "metadata": {},
   "outputs": [],
   "source": [
    "import pandas as pd\n",
    "from IPython.display import display\n",
    "from matplotlib import pyplot as plt\n",
    "import plotly.graph_objs as go"
   ]
  },
  {
   "cell_type": "code",
   "execution_count": 2,
   "id": "8203410d",
   "metadata": {},
   "outputs": [],
   "source": [
    "MAIN_DIR = \"src/data/\""
   ]
  },
  {
   "cell_type": "code",
   "execution_count": 3,
   "id": "361dea11",
   "metadata": {},
   "outputs": [],
   "source": [
    "# Load the CSV\n",
    "ufcfights = pd.read_csv(MAIN_DIR + \"ufcfights_update.csv\", index_col=False)\n",
    "\n",
    "# Sort with the most recent at the bottom\n",
    "ufcfights = ufcfights.sort_index(ascending=False)\n",
    "\n",
    "# Create unique event IDs\n",
    "unique_events = ufcfights[['event']].drop_duplicates().reset_index(drop=True)\n",
    "unique_events['event_id'] = range(1, len(unique_events) + 1)\n",
    "\n",
    "# inner join of ufc fights and unique events on 'event' key\n",
    "ufcfights = ufcfights.merge(unique_events, on='event')\n",
    "\n",
    "# Drop unnecessary columns\n",
    "ufcfights.drop(columns=[\"method\", \"round\", \"time\"], inplace=True)"
   ]
  },
  {
   "cell_type": "code",
   "execution_count": 4,
   "id": "b810f3fa",
   "metadata": {},
   "outputs": [],
   "source": [
    "# Initialize Elo ratings\n",
    "initial_elo = 1000\n",
    "elo_ratings = {}\n",
    "k_factor = 200 # up to 200 as fighters have matches at least 5x rarelier than in chess - for better comparison"
   ]
  },
  {
   "cell_type": "code",
   "execution_count": 5,
   "id": "8e760cd5",
   "metadata": {},
   "outputs": [],
   "source": [
    "# Function to calculate the expected score\n",
    "def expected_score(elo_a, elo_b):\n",
    "    return 1 / (1 + 10**((elo_b - elo_a) / 400))\n",
    "\n",
    "# Function to update Elo ratings\n",
    "def update_elo(winner_elo, loser_elo, k_factor):\n",
    "    expected_win = expected_score(winner_elo, loser_elo)\n",
    "    new_winner_elo = winner_elo + k_factor * (1 - expected_win)\n",
    "    new_loser_elo = loser_elo + k_factor * (0 - (1 - expected_win))\n",
    "    return new_winner_elo, new_loser_elo"
   ]
  },
  {
   "cell_type": "code",
   "execution_count": 6,
   "id": "6b0beb9c",
   "metadata": {},
   "outputs": [
    {
     "name": "stderr",
     "output_type": "stream",
     "text": [
      "C:\\Users\\Teddy\\AppData\\Local\\Temp\\ipykernel_25456\\1325605412.py:35: FutureWarning: Setting an item of incompatible dtype is deprecated and will raise an error in a future version of pandas. Value '1028.012999960577' has dtype incompatible with int64, please explicitly cast to a compatible dtype first.\n",
      "  ufcfights.at[index, 'fighter_1_elo_end'] = new_fighter1_elo\n",
      "C:\\Users\\Teddy\\AppData\\Local\\Temp\\ipykernel_25456\\1325605412.py:36: FutureWarning: Setting an item of incompatible dtype is deprecated and will raise an error in a future version of pandas. Value '871.987000039423' has dtype incompatible with int64, please explicitly cast to a compatible dtype first.\n",
      "  ufcfights.at[index, 'fighter_2_elo_end'] = new_fighter2_elo\n",
      "C:\\Users\\Teddy\\AppData\\Local\\Temp\\ipykernel_25456\\1325605412.py:23: FutureWarning: Setting an item of incompatible dtype is deprecated and will raise an error in a future version of pandas. Value '1028.012999960577' has dtype incompatible with int64, please explicitly cast to a compatible dtype first.\n",
      "  ufcfights.at[index, 'fighter_1_elo_start'] = fighter_1_elo_start\n",
      "C:\\Users\\Teddy\\AppData\\Local\\Temp\\ipykernel_25456\\1325605412.py:24: FutureWarning: Setting an item of incompatible dtype is deprecated and will raise an error in a future version of pandas. Value '1171.987000039423' has dtype incompatible with int64, please explicitly cast to a compatible dtype first.\n",
      "  ufcfights.at[index, 'fighter_2_elo_start'] = fighter_2_elo_start\n"
     ]
    }
   ],
   "source": [
    "# Add columns for Elo ratings\n",
    "ufcfights['fighter_1_elo_start'] = 0\n",
    "ufcfights['fighter_2_elo_start'] = 0\n",
    "ufcfights['fighter_1_elo_end'] = 0\n",
    "ufcfights['fighter_2_elo_end'] = 0\n",
    "\n",
    "# Calculate Elo ratings for each match\n",
    "for index, row in ufcfights.iterrows():\n",
    "    fighter_1 = row['fighter_1']\n",
    "    fighter_2 = row['fighter_2']\n",
    "\n",
    "    # Initialize Elo ratings if fighters are encountered for the first time - moved to list of elos\n",
    "    if fighter_1 not in elo_ratings:\n",
    "        elo_ratings[fighter_1] = [initial_elo]\n",
    "    if fighter_2 not in elo_ratings:\n",
    "        elo_ratings[fighter_2] = [initial_elo]\n",
    "\n",
    "    # Get starting Elo ratings\n",
    "    fighter_1_elo_start = elo_ratings[fighter_1][-1]\n",
    "    fighter_2_elo_start = elo_ratings[fighter_2][-1]\n",
    "\n",
    "    # Record starting Elo ratings\n",
    "    ufcfights.at[index, 'fighter_1_elo_start'] = fighter_1_elo_start\n",
    "    ufcfights.at[index, 'fighter_2_elo_start'] = fighter_2_elo_start\n",
    "\n",
    "    # Update Elo based on the result\n",
    "    if row['result'] == 'win':  # Fighter 1 wins\n",
    "        new_fighter1_elo, new_fighter2_elo = update_elo(fighter_1_elo_start, fighter_2_elo_start, k_factor)\n",
    "    elif row[\"result\"] == 'draw':  # Draw\n",
    "        new_fighter1_elo, new_fighter2_elo = update_elo(fighter_1_elo_start, fighter_2_elo_start, k_factor / 2)\n",
    "    else:  # No contest\n",
    "        new_fighter1_elo, new_fighter2_elo = fighter_1_elo_start, fighter_2_elo_start\n",
    "\n",
    "    # Record updated Elo ratings\n",
    "    ufcfights.at[index, 'fighter_1_elo_end'] = new_fighter1_elo\n",
    "    ufcfights.at[index, 'fighter_2_elo_end'] = new_fighter2_elo\n",
    "\n",
    "    # Update Elo ratings in the dictionary\n",
    "    elo_ratings[fighter_1].append(new_fighter1_elo)\n",
    "    elo_ratings[fighter_2].append(new_fighter2_elo)"
   ]
  },
  {
   "cell_type": "markdown",
   "id": "6e9b5409",
   "metadata": {},
   "source": [
    "# ------------------------------"
   ]
  },
  {
   "cell_type": "code",
   "execution_count": 7,
   "id": "05bc5099",
   "metadata": {},
   "outputs": [],
   "source": [
    "import plotly.graph_objs as go\n",
    "import pandas as pd\n",
    "\n",
    "def plot_elo_vs_time(fighter_name, fighter_matches):\n",
    "    # If event dates are available, use them for the x-axis, otherwise use an index\n",
    "    if 'event_date' in fighter_matches.columns:\n",
    "        x_axis = fighter_matches['event_date']\n",
    "    else:\n",
    "        x_axis = fighter_matches.index  # Creating a time index\n",
    "\n",
    "    # Extract Elo ratings and results\n",
    "    elo_after_matches = fighter_matches['own elo after'].round(2)\n",
    "    results = fighter_matches['result']\n",
    "\n",
    "    # Define colors for wins and losses\n",
    "    colors = ['green' if result == 'win' else 'red' for result in results]\n",
    "\n",
    "    # Create an interactive Plotly plot\n",
    "    fig = go.Figure()\n",
    "\n",
    "    # Add trace for Elo ratings over time\n",
    "    fig.add_trace(go.Scatter(\n",
    "        x=x_axis, \n",
    "        y=elo_after_matches, \n",
    "        mode='lines+markers',\n",
    "        marker=dict(color=colors, size=10),\n",
    "        line=dict(color='blue', width=2),\n",
    "        name=f'{fighter_name} Elo Rating',\n",
    "        hoverinfo='text',\n",
    "        text=[f\"Event: {event}, Result: {result}, Elo: {elo:.2f}\" \n",
    "              for event, result, elo in zip(fighter_matches['event'], results, elo_after_matches)]\n",
    "    ))\n",
    "\n",
    "    # Customize layout\n",
    "    fig.update_layout(\n",
    "        title=f\"Elo Rating over Time for {fighter_name}\",\n",
    "        xaxis_title='Event Date' if 'event_date' in fighter_matches.columns else 'Match Number',\n",
    "        yaxis_title='Elo Rating',\n",
    "        legend_title=\"Legend\",\n",
    "        hovermode=\"closest\",\n",
    "        plot_bgcolor='rgba(0,0,0,0)',\n",
    "        paper_bgcolor='rgba(0,0,0,0)',\n",
    "        font=dict(size=14),\n",
    "        xaxis=dict(showgrid=True, zeroline=False),\n",
    "        yaxis=dict(showgrid=True, zeroline=False),\n",
    "    )\n",
    "    \n",
    "    fig.write_html(f\"fighter_{fighter_name}_elo_plot.html\")\n",
    "\n",
    "    # Show the figure\n",
    "    fig.show()"
   ]
  },
  {
   "cell_type": "code",
   "execution_count": 8,
   "id": "7e40fa88",
   "metadata": {},
   "outputs": [],
   "source": [
    "def get_fighter_info(fighter_name, elo_ratings, ufcfights, initial_elo=1000, plot=0):\n",
    "    # Check if the fighter exists in the Elo ratings dictionary\n",
    "    if fighter_name in elo_ratings:\n",
    "        elo = elo_ratings[fighter_name]\n",
    "    else:\n",
    "        elo = initial_elo\n",
    "\n",
    "    # Find all matches where the fighter appeared as either fighter_1 or fighter_2\n",
    "    fighter_matches_1 = ufcfights[(ufcfights['fighter_1'] == fighter_name)][['event', 'fighter_2', 'result',\n",
    "    'event_id', 'fighter_1_elo_start', 'fighter_2_elo_start', 'fighter_1_elo_end']].rename(columns={'fighter_2': 'opponent',\n",
    "    'fighter_2_elo_start': 'opponent elo', 'fighter_1_elo_start': 'own elo', 'fighter_1_elo_end': 'own elo after'})\n",
    "    \n",
    "    fighter_matches_2 = ufcfights[(ufcfights['fighter_2'] == fighter_name)][['event', 'fighter_1', 'result',\n",
    "    'event_id', 'fighter_1_elo_start', 'fighter_2_elo_start', 'fighter_2_elo_end']].rename(columns={'fighter_1': 'opponent',\n",
    "    'fighter_1_elo_start': 'opponent elo', 'fighter_2_elo_start': 'own elo', 'fighter_2_elo_end': 'own elo after'})\n",
    "    fighter_matches_2['result'] = fighter_matches_2['result'].str.replace('win','loss')\n",
    "    \n",
    "    fighter_matches = pd.concat([fighter_matches_1, fighter_matches_2]).reset_index()\n",
    "    \n",
    "    \n",
    "    # Return Elo rating and their matches\n",
    "    if not fighter_matches.empty:\n",
    "        print(f\"{fighter_name}'s current Elo rating: {elo[-1]}\\n\")\n",
    "        print(f\"{fighter_name}'s highest Elo rating: {max(elo)}\\n\")\n",
    "        print(f\"{fighter_name}'s matches:\")\n",
    "        display(fighter_matches)\n",
    "        print(f\"{fighter_name}'s elo history:\\n\")\n",
    "        if plot==1: fighter_matches['own elo after'].plot(marker='o')\n",
    "        elif plot==2: plot_elo_vs_time(fighter_name, fighter_matches)\n",
    "    else:\n",
    "        print(f\"{fighter_name} has no recorded matches.\")"
   ]
  },
  {
   "cell_type": "code",
   "execution_count": 9,
   "id": "04b47f21",
   "metadata": {},
   "outputs": [
    {
     "name": "stdout",
     "output_type": "stream",
     "text": [
      "Royce Gracie's current Elo rating: 1373.9098983465929\n",
      "\n",
      "Royce Gracie's highest Elo rating: 1561.7608360472366\n",
      "\n",
      "Royce Gracie's matches:\n"
     ]
    },
    {
     "data": {
      "text/html": [
       "<div>\n",
       "<style scoped>\n",
       "    .dataframe tbody tr th:only-of-type {\n",
       "        vertical-align: middle;\n",
       "    }\n",
       "\n",
       "    .dataframe tbody tr th {\n",
       "        vertical-align: top;\n",
       "    }\n",
       "\n",
       "    .dataframe thead th {\n",
       "        text-align: right;\n",
       "    }\n",
       "</style>\n",
       "<table border=\"1\" class=\"dataframe\">\n",
       "  <thead>\n",
       "    <tr style=\"text-align: right;\">\n",
       "      <th></th>\n",
       "      <th>index</th>\n",
       "      <th>event</th>\n",
       "      <th>opponent</th>\n",
       "      <th>result</th>\n",
       "      <th>event_id</th>\n",
       "      <th>own elo</th>\n",
       "      <th>opponent elo</th>\n",
       "      <th>own elo after</th>\n",
       "    </tr>\n",
       "  </thead>\n",
       "  <tbody>\n",
       "    <tr>\n",
       "      <th>0</th>\n",
       "      <td>2</td>\n",
       "      <td>UFC 1: The Beginning</td>\n",
       "      <td>Art Jimmerson</td>\n",
       "      <td>win</td>\n",
       "      <td>1</td>\n",
       "      <td>1000.000000</td>\n",
       "      <td>1000.000000</td>\n",
       "      <td>1100.000000</td>\n",
       "    </tr>\n",
       "    <tr>\n",
       "      <th>1</th>\n",
       "      <td>5</td>\n",
       "      <td>UFC 1: The Beginning</td>\n",
       "      <td>Ken Shamrock</td>\n",
       "      <td>win</td>\n",
       "      <td>1</td>\n",
       "      <td>1100.000000</td>\n",
       "      <td>1100.000000</td>\n",
       "      <td>1200.000000</td>\n",
       "    </tr>\n",
       "    <tr>\n",
       "      <th>2</th>\n",
       "      <td>7</td>\n",
       "      <td>UFC 1: The Beginning</td>\n",
       "      <td>Gerard Gordeau</td>\n",
       "      <td>win</td>\n",
       "      <td>1</td>\n",
       "      <td>1200.000000</td>\n",
       "      <td>1200.000000</td>\n",
       "      <td>1300.000000</td>\n",
       "    </tr>\n",
       "    <tr>\n",
       "      <th>3</th>\n",
       "      <td>15</td>\n",
       "      <td>UFC 2: No Way Out</td>\n",
       "      <td>Minoki Ichihara</td>\n",
       "      <td>win</td>\n",
       "      <td>2</td>\n",
       "      <td>1300.000000</td>\n",
       "      <td>1000.000000</td>\n",
       "      <td>1330.195911</td>\n",
       "    </tr>\n",
       "    <tr>\n",
       "      <th>4</th>\n",
       "      <td>19</td>\n",
       "      <td>UFC 2: No Way Out</td>\n",
       "      <td>Jason DeLucia</td>\n",
       "      <td>win</td>\n",
       "      <td>2</td>\n",
       "      <td>1330.195911</td>\n",
       "      <td>1171.987000</td>\n",
       "      <td>1387.566265</td>\n",
       "    </tr>\n",
       "    <tr>\n",
       "      <th>5</th>\n",
       "      <td>21</td>\n",
       "      <td>UFC 2: No Way Out</td>\n",
       "      <td>Remco Pardoel</td>\n",
       "      <td>win</td>\n",
       "      <td>2</td>\n",
       "      <td>1387.566265</td>\n",
       "      <td>1200.000000</td>\n",
       "      <td>1438.278134</td>\n",
       "    </tr>\n",
       "    <tr>\n",
       "      <th>6</th>\n",
       "      <td>22</td>\n",
       "      <td>UFC 2: No Way Out</td>\n",
       "      <td>Patrick Smith</td>\n",
       "      <td>win</td>\n",
       "      <td>2</td>\n",
       "      <td>1438.278134</td>\n",
       "      <td>1255.207751</td>\n",
       "      <td>1489.975897</td>\n",
       "    </tr>\n",
       "    <tr>\n",
       "      <th>7</th>\n",
       "      <td>26</td>\n",
       "      <td>UFC 3: The American Dream</td>\n",
       "      <td>Kimo Leopoldo</td>\n",
       "      <td>win</td>\n",
       "      <td>3</td>\n",
       "      <td>1489.975897</td>\n",
       "      <td>1000.000000</td>\n",
       "      <td>1501.220879</td>\n",
       "    </tr>\n",
       "    <tr>\n",
       "      <th>8</th>\n",
       "      <td>32</td>\n",
       "      <td>UFC 4: Revenge of the Warriors</td>\n",
       "      <td>Ron van Clief</td>\n",
       "      <td>win</td>\n",
       "      <td>4</td>\n",
       "      <td>1501.220879</td>\n",
       "      <td>1000.000000</td>\n",
       "      <td>1511.798294</td>\n",
       "    </tr>\n",
       "    <tr>\n",
       "      <th>9</th>\n",
       "      <td>36</td>\n",
       "      <td>UFC 4: Revenge of the Warriors</td>\n",
       "      <td>Keith Hackney</td>\n",
       "      <td>win</td>\n",
       "      <td>4</td>\n",
       "      <td>1511.798294</td>\n",
       "      <td>1171.987000</td>\n",
       "      <td>1536.576002</td>\n",
       "    </tr>\n",
       "    <tr>\n",
       "      <th>10</th>\n",
       "      <td>38</td>\n",
       "      <td>UFC 4: Revenge of the Warriors</td>\n",
       "      <td>Dan Severn</td>\n",
       "      <td>win</td>\n",
       "      <td>4</td>\n",
       "      <td>1536.576002</td>\n",
       "      <td>1200.000000</td>\n",
       "      <td>1561.760836</td>\n",
       "    </tr>\n",
       "    <tr>\n",
       "      <th>11</th>\n",
       "      <td>47</td>\n",
       "      <td>UFC 5: The Return of the Beast</td>\n",
       "      <td>Ken Shamrock</td>\n",
       "      <td>draw</td>\n",
       "      <td>5</td>\n",
       "      <td>1561.760836</td>\n",
       "      <td>1171.987000</td>\n",
       "      <td>1471.350103</td>\n",
       "    </tr>\n",
       "    <tr>\n",
       "      <th>12</th>\n",
       "      <td>579</td>\n",
       "      <td>UFC 60: Hughes vs Gracie</td>\n",
       "      <td>Matt Hughes</td>\n",
       "      <td>loss</td>\n",
       "      <td>71</td>\n",
       "      <td>1471.350103</td>\n",
       "      <td>1480.245687</td>\n",
       "      <td>1373.909898</td>\n",
       "    </tr>\n",
       "  </tbody>\n",
       "</table>\n",
       "</div>"
      ],
      "text/plain": [
       "    index                           event         opponent result  event_id  \\\n",
       "0       2            UFC 1: The Beginning    Art Jimmerson    win         1   \n",
       "1       5            UFC 1: The Beginning     Ken Shamrock    win         1   \n",
       "2       7            UFC 1: The Beginning   Gerard Gordeau    win         1   \n",
       "3      15               UFC 2: No Way Out  Minoki Ichihara    win         2   \n",
       "4      19               UFC 2: No Way Out    Jason DeLucia    win         2   \n",
       "5      21               UFC 2: No Way Out    Remco Pardoel    win         2   \n",
       "6      22               UFC 2: No Way Out    Patrick Smith    win         2   \n",
       "7      26       UFC 3: The American Dream    Kimo Leopoldo    win         3   \n",
       "8      32  UFC 4: Revenge of the Warriors    Ron van Clief    win         4   \n",
       "9      36  UFC 4: Revenge of the Warriors    Keith Hackney    win         4   \n",
       "10     38  UFC 4: Revenge of the Warriors       Dan Severn    win         4   \n",
       "11     47  UFC 5: The Return of the Beast     Ken Shamrock   draw         5   \n",
       "12    579        UFC 60: Hughes vs Gracie      Matt Hughes   loss        71   \n",
       "\n",
       "        own elo  opponent elo  own elo after  \n",
       "0   1000.000000   1000.000000    1100.000000  \n",
       "1   1100.000000   1100.000000    1200.000000  \n",
       "2   1200.000000   1200.000000    1300.000000  \n",
       "3   1300.000000   1000.000000    1330.195911  \n",
       "4   1330.195911   1171.987000    1387.566265  \n",
       "5   1387.566265   1200.000000    1438.278134  \n",
       "6   1438.278134   1255.207751    1489.975897  \n",
       "7   1489.975897   1000.000000    1501.220879  \n",
       "8   1501.220879   1000.000000    1511.798294  \n",
       "9   1511.798294   1171.987000    1536.576002  \n",
       "10  1536.576002   1200.000000    1561.760836  \n",
       "11  1561.760836   1171.987000    1471.350103  \n",
       "12  1471.350103   1480.245687    1373.909898  "
      ]
     },
     "metadata": {},
     "output_type": "display_data"
    },
    {
     "name": "stdout",
     "output_type": "stream",
     "text": [
      "Royce Gracie's elo history:\n",
      "\n"
     ]
    },
    {
     "data": {
      "application/vnd.plotly.v1+json": {
       "config": {
        "plotlyServerURL": "https://plot.ly"
       },
       "data": [
        {
         "hoverinfo": "text",
         "line": {
          "color": "blue",
          "width": 2
         },
         "marker": {
          "color": [
           "green",
           "green",
           "green",
           "green",
           "green",
           "green",
           "green",
           "green",
           "green",
           "green",
           "green",
           "red",
           "red"
          ],
          "size": 10
         },
         "mode": "lines+markers",
         "name": "Royce Gracie Elo Rating",
         "text": [
          "Event: UFC 1: The Beginning, Result: win, Elo: 1100.00",
          "Event: UFC 1: The Beginning, Result: win, Elo: 1200.00",
          "Event: UFC 1: The Beginning, Result: win, Elo: 1300.00",
          "Event: UFC 2: No Way Out, Result: win, Elo: 1330.20",
          "Event: UFC 2: No Way Out, Result: win, Elo: 1387.57",
          "Event: UFC 2: No Way Out, Result: win, Elo: 1438.28",
          "Event: UFC 2: No Way Out, Result: win, Elo: 1489.98",
          "Event: UFC 3: The American Dream, Result: win, Elo: 1501.22",
          "Event: UFC 4: Revenge of the Warriors, Result: win, Elo: 1511.80",
          "Event: UFC 4: Revenge of the Warriors, Result: win, Elo: 1536.58",
          "Event: UFC 4: Revenge of the Warriors, Result: win, Elo: 1561.76",
          "Event: UFC 5: The Return of the Beast, Result: draw, Elo: 1471.35",
          "Event: UFC 60: Hughes vs Gracie, Result: loss, Elo: 1373.91"
         ],
         "type": "scatter",
         "x": [
          0,
          1,
          2,
          3,
          4,
          5,
          6,
          7,
          8,
          9,
          10,
          11,
          12
         ],
         "y": [
          1100,
          1200,
          1300,
          1330.2,
          1387.57,
          1438.28,
          1489.98,
          1501.22,
          1511.8,
          1536.58,
          1561.76,
          1471.35,
          1373.91
         ]
        }
       ],
       "layout": {
        "font": {
         "size": 14
        },
        "hovermode": "closest",
        "legend": {
         "title": {
          "text": "Legend"
         }
        },
        "paper_bgcolor": "rgba(0,0,0,0)",
        "plot_bgcolor": "rgba(0,0,0,0)",
        "template": {
         "data": {
          "bar": [
           {
            "error_x": {
             "color": "#2a3f5f"
            },
            "error_y": {
             "color": "#2a3f5f"
            },
            "marker": {
             "line": {
              "color": "#E5ECF6",
              "width": 0.5
             },
             "pattern": {
              "fillmode": "overlay",
              "size": 10,
              "solidity": 0.2
             }
            },
            "type": "bar"
           }
          ],
          "barpolar": [
           {
            "marker": {
             "line": {
              "color": "#E5ECF6",
              "width": 0.5
             },
             "pattern": {
              "fillmode": "overlay",
              "size": 10,
              "solidity": 0.2
             }
            },
            "type": "barpolar"
           }
          ],
          "carpet": [
           {
            "aaxis": {
             "endlinecolor": "#2a3f5f",
             "gridcolor": "white",
             "linecolor": "white",
             "minorgridcolor": "white",
             "startlinecolor": "#2a3f5f"
            },
            "baxis": {
             "endlinecolor": "#2a3f5f",
             "gridcolor": "white",
             "linecolor": "white",
             "minorgridcolor": "white",
             "startlinecolor": "#2a3f5f"
            },
            "type": "carpet"
           }
          ],
          "choropleth": [
           {
            "colorbar": {
             "outlinewidth": 0,
             "ticks": ""
            },
            "type": "choropleth"
           }
          ],
          "contour": [
           {
            "colorbar": {
             "outlinewidth": 0,
             "ticks": ""
            },
            "colorscale": [
             [
              0,
              "#0d0887"
             ],
             [
              0.1111111111111111,
              "#46039f"
             ],
             [
              0.2222222222222222,
              "#7201a8"
             ],
             [
              0.3333333333333333,
              "#9c179e"
             ],
             [
              0.4444444444444444,
              "#bd3786"
             ],
             [
              0.5555555555555556,
              "#d8576b"
             ],
             [
              0.6666666666666666,
              "#ed7953"
             ],
             [
              0.7777777777777778,
              "#fb9f3a"
             ],
             [
              0.8888888888888888,
              "#fdca26"
             ],
             [
              1,
              "#f0f921"
             ]
            ],
            "type": "contour"
           }
          ],
          "contourcarpet": [
           {
            "colorbar": {
             "outlinewidth": 0,
             "ticks": ""
            },
            "type": "contourcarpet"
           }
          ],
          "heatmap": [
           {
            "colorbar": {
             "outlinewidth": 0,
             "ticks": ""
            },
            "colorscale": [
             [
              0,
              "#0d0887"
             ],
             [
              0.1111111111111111,
              "#46039f"
             ],
             [
              0.2222222222222222,
              "#7201a8"
             ],
             [
              0.3333333333333333,
              "#9c179e"
             ],
             [
              0.4444444444444444,
              "#bd3786"
             ],
             [
              0.5555555555555556,
              "#d8576b"
             ],
             [
              0.6666666666666666,
              "#ed7953"
             ],
             [
              0.7777777777777778,
              "#fb9f3a"
             ],
             [
              0.8888888888888888,
              "#fdca26"
             ],
             [
              1,
              "#f0f921"
             ]
            ],
            "type": "heatmap"
           }
          ],
          "heatmapgl": [
           {
            "colorbar": {
             "outlinewidth": 0,
             "ticks": ""
            },
            "colorscale": [
             [
              0,
              "#0d0887"
             ],
             [
              0.1111111111111111,
              "#46039f"
             ],
             [
              0.2222222222222222,
              "#7201a8"
             ],
             [
              0.3333333333333333,
              "#9c179e"
             ],
             [
              0.4444444444444444,
              "#bd3786"
             ],
             [
              0.5555555555555556,
              "#d8576b"
             ],
             [
              0.6666666666666666,
              "#ed7953"
             ],
             [
              0.7777777777777778,
              "#fb9f3a"
             ],
             [
              0.8888888888888888,
              "#fdca26"
             ],
             [
              1,
              "#f0f921"
             ]
            ],
            "type": "heatmapgl"
           }
          ],
          "histogram": [
           {
            "marker": {
             "pattern": {
              "fillmode": "overlay",
              "size": 10,
              "solidity": 0.2
             }
            },
            "type": "histogram"
           }
          ],
          "histogram2d": [
           {
            "colorbar": {
             "outlinewidth": 0,
             "ticks": ""
            },
            "colorscale": [
             [
              0,
              "#0d0887"
             ],
             [
              0.1111111111111111,
              "#46039f"
             ],
             [
              0.2222222222222222,
              "#7201a8"
             ],
             [
              0.3333333333333333,
              "#9c179e"
             ],
             [
              0.4444444444444444,
              "#bd3786"
             ],
             [
              0.5555555555555556,
              "#d8576b"
             ],
             [
              0.6666666666666666,
              "#ed7953"
             ],
             [
              0.7777777777777778,
              "#fb9f3a"
             ],
             [
              0.8888888888888888,
              "#fdca26"
             ],
             [
              1,
              "#f0f921"
             ]
            ],
            "type": "histogram2d"
           }
          ],
          "histogram2dcontour": [
           {
            "colorbar": {
             "outlinewidth": 0,
             "ticks": ""
            },
            "colorscale": [
             [
              0,
              "#0d0887"
             ],
             [
              0.1111111111111111,
              "#46039f"
             ],
             [
              0.2222222222222222,
              "#7201a8"
             ],
             [
              0.3333333333333333,
              "#9c179e"
             ],
             [
              0.4444444444444444,
              "#bd3786"
             ],
             [
              0.5555555555555556,
              "#d8576b"
             ],
             [
              0.6666666666666666,
              "#ed7953"
             ],
             [
              0.7777777777777778,
              "#fb9f3a"
             ],
             [
              0.8888888888888888,
              "#fdca26"
             ],
             [
              1,
              "#f0f921"
             ]
            ],
            "type": "histogram2dcontour"
           }
          ],
          "mesh3d": [
           {
            "colorbar": {
             "outlinewidth": 0,
             "ticks": ""
            },
            "type": "mesh3d"
           }
          ],
          "parcoords": [
           {
            "line": {
             "colorbar": {
              "outlinewidth": 0,
              "ticks": ""
             }
            },
            "type": "parcoords"
           }
          ],
          "pie": [
           {
            "automargin": true,
            "type": "pie"
           }
          ],
          "scatter": [
           {
            "fillpattern": {
             "fillmode": "overlay",
             "size": 10,
             "solidity": 0.2
            },
            "type": "scatter"
           }
          ],
          "scatter3d": [
           {
            "line": {
             "colorbar": {
              "outlinewidth": 0,
              "ticks": ""
             }
            },
            "marker": {
             "colorbar": {
              "outlinewidth": 0,
              "ticks": ""
             }
            },
            "type": "scatter3d"
           }
          ],
          "scattercarpet": [
           {
            "marker": {
             "colorbar": {
              "outlinewidth": 0,
              "ticks": ""
             }
            },
            "type": "scattercarpet"
           }
          ],
          "scattergeo": [
           {
            "marker": {
             "colorbar": {
              "outlinewidth": 0,
              "ticks": ""
             }
            },
            "type": "scattergeo"
           }
          ],
          "scattergl": [
           {
            "marker": {
             "colorbar": {
              "outlinewidth": 0,
              "ticks": ""
             }
            },
            "type": "scattergl"
           }
          ],
          "scattermapbox": [
           {
            "marker": {
             "colorbar": {
              "outlinewidth": 0,
              "ticks": ""
             }
            },
            "type": "scattermapbox"
           }
          ],
          "scatterpolar": [
           {
            "marker": {
             "colorbar": {
              "outlinewidth": 0,
              "ticks": ""
             }
            },
            "type": "scatterpolar"
           }
          ],
          "scatterpolargl": [
           {
            "marker": {
             "colorbar": {
              "outlinewidth": 0,
              "ticks": ""
             }
            },
            "type": "scatterpolargl"
           }
          ],
          "scatterternary": [
           {
            "marker": {
             "colorbar": {
              "outlinewidth": 0,
              "ticks": ""
             }
            },
            "type": "scatterternary"
           }
          ],
          "surface": [
           {
            "colorbar": {
             "outlinewidth": 0,
             "ticks": ""
            },
            "colorscale": [
             [
              0,
              "#0d0887"
             ],
             [
              0.1111111111111111,
              "#46039f"
             ],
             [
              0.2222222222222222,
              "#7201a8"
             ],
             [
              0.3333333333333333,
              "#9c179e"
             ],
             [
              0.4444444444444444,
              "#bd3786"
             ],
             [
              0.5555555555555556,
              "#d8576b"
             ],
             [
              0.6666666666666666,
              "#ed7953"
             ],
             [
              0.7777777777777778,
              "#fb9f3a"
             ],
             [
              0.8888888888888888,
              "#fdca26"
             ],
             [
              1,
              "#f0f921"
             ]
            ],
            "type": "surface"
           }
          ],
          "table": [
           {
            "cells": {
             "fill": {
              "color": "#EBF0F8"
             },
             "line": {
              "color": "white"
             }
            },
            "header": {
             "fill": {
              "color": "#C8D4E3"
             },
             "line": {
              "color": "white"
             }
            },
            "type": "table"
           }
          ]
         },
         "layout": {
          "annotationdefaults": {
           "arrowcolor": "#2a3f5f",
           "arrowhead": 0,
           "arrowwidth": 1
          },
          "autotypenumbers": "strict",
          "coloraxis": {
           "colorbar": {
            "outlinewidth": 0,
            "ticks": ""
           }
          },
          "colorscale": {
           "diverging": [
            [
             0,
             "#8e0152"
            ],
            [
             0.1,
             "#c51b7d"
            ],
            [
             0.2,
             "#de77ae"
            ],
            [
             0.3,
             "#f1b6da"
            ],
            [
             0.4,
             "#fde0ef"
            ],
            [
             0.5,
             "#f7f7f7"
            ],
            [
             0.6,
             "#e6f5d0"
            ],
            [
             0.7,
             "#b8e186"
            ],
            [
             0.8,
             "#7fbc41"
            ],
            [
             0.9,
             "#4d9221"
            ],
            [
             1,
             "#276419"
            ]
           ],
           "sequential": [
            [
             0,
             "#0d0887"
            ],
            [
             0.1111111111111111,
             "#46039f"
            ],
            [
             0.2222222222222222,
             "#7201a8"
            ],
            [
             0.3333333333333333,
             "#9c179e"
            ],
            [
             0.4444444444444444,
             "#bd3786"
            ],
            [
             0.5555555555555556,
             "#d8576b"
            ],
            [
             0.6666666666666666,
             "#ed7953"
            ],
            [
             0.7777777777777778,
             "#fb9f3a"
            ],
            [
             0.8888888888888888,
             "#fdca26"
            ],
            [
             1,
             "#f0f921"
            ]
           ],
           "sequentialminus": [
            [
             0,
             "#0d0887"
            ],
            [
             0.1111111111111111,
             "#46039f"
            ],
            [
             0.2222222222222222,
             "#7201a8"
            ],
            [
             0.3333333333333333,
             "#9c179e"
            ],
            [
             0.4444444444444444,
             "#bd3786"
            ],
            [
             0.5555555555555556,
             "#d8576b"
            ],
            [
             0.6666666666666666,
             "#ed7953"
            ],
            [
             0.7777777777777778,
             "#fb9f3a"
            ],
            [
             0.8888888888888888,
             "#fdca26"
            ],
            [
             1,
             "#f0f921"
            ]
           ]
          },
          "colorway": [
           "#636efa",
           "#EF553B",
           "#00cc96",
           "#ab63fa",
           "#FFA15A",
           "#19d3f3",
           "#FF6692",
           "#B6E880",
           "#FF97FF",
           "#FECB52"
          ],
          "font": {
           "color": "#2a3f5f"
          },
          "geo": {
           "bgcolor": "white",
           "lakecolor": "white",
           "landcolor": "#E5ECF6",
           "showlakes": true,
           "showland": true,
           "subunitcolor": "white"
          },
          "hoverlabel": {
           "align": "left"
          },
          "hovermode": "closest",
          "mapbox": {
           "style": "light"
          },
          "paper_bgcolor": "white",
          "plot_bgcolor": "#E5ECF6",
          "polar": {
           "angularaxis": {
            "gridcolor": "white",
            "linecolor": "white",
            "ticks": ""
           },
           "bgcolor": "#E5ECF6",
           "radialaxis": {
            "gridcolor": "white",
            "linecolor": "white",
            "ticks": ""
           }
          },
          "scene": {
           "xaxis": {
            "backgroundcolor": "#E5ECF6",
            "gridcolor": "white",
            "gridwidth": 2,
            "linecolor": "white",
            "showbackground": true,
            "ticks": "",
            "zerolinecolor": "white"
           },
           "yaxis": {
            "backgroundcolor": "#E5ECF6",
            "gridcolor": "white",
            "gridwidth": 2,
            "linecolor": "white",
            "showbackground": true,
            "ticks": "",
            "zerolinecolor": "white"
           },
           "zaxis": {
            "backgroundcolor": "#E5ECF6",
            "gridcolor": "white",
            "gridwidth": 2,
            "linecolor": "white",
            "showbackground": true,
            "ticks": "",
            "zerolinecolor": "white"
           }
          },
          "shapedefaults": {
           "line": {
            "color": "#2a3f5f"
           }
          },
          "ternary": {
           "aaxis": {
            "gridcolor": "white",
            "linecolor": "white",
            "ticks": ""
           },
           "baxis": {
            "gridcolor": "white",
            "linecolor": "white",
            "ticks": ""
           },
           "bgcolor": "#E5ECF6",
           "caxis": {
            "gridcolor": "white",
            "linecolor": "white",
            "ticks": ""
           }
          },
          "title": {
           "x": 0.05
          },
          "xaxis": {
           "automargin": true,
           "gridcolor": "white",
           "linecolor": "white",
           "ticks": "",
           "title": {
            "standoff": 15
           },
           "zerolinecolor": "white",
           "zerolinewidth": 2
          },
          "yaxis": {
           "automargin": true,
           "gridcolor": "white",
           "linecolor": "white",
           "ticks": "",
           "title": {
            "standoff": 15
           },
           "zerolinecolor": "white",
           "zerolinewidth": 2
          }
         }
        },
        "title": {
         "text": "Elo Rating over Time for Royce Gracie"
        },
        "xaxis": {
         "showgrid": true,
         "title": {
          "text": "Match Number"
         },
         "zeroline": false
        },
        "yaxis": {
         "showgrid": true,
         "title": {
          "text": "Elo Rating"
         },
         "zeroline": false
        }
       }
      }
     },
     "metadata": {},
     "output_type": "display_data"
    }
   ],
   "source": [
    "get_fighter_info(\"Royce Gracie\",elo_ratings, ufcfights, plot=2)"
   ]
  },
  {
   "cell_type": "markdown",
   "id": "9949354a",
   "metadata": {},
   "source": [
    "# Best elos in history"
   ]
  },
  {
   "cell_type": "code",
   "execution_count": 10,
   "id": "3f1cf23f",
   "metadata": {},
   "outputs": [],
   "source": [
    "min_max_elos = [{'fighter': k, 'max_elo': max(v), 'min_elo': min(v), 'last': v[-1]} for k, v in elo_ratings.items()]\n",
    "min_max_elos = pd.DataFrame.from_records(min_max_elos)"
   ]
  },
  {
   "cell_type": "markdown",
   "id": "20ae9dc1",
   "metadata": {},
   "source": [
    "### All time"
   ]
  },
  {
   "cell_type": "code",
   "execution_count": 11,
   "id": "a0a83795",
   "metadata": {},
   "outputs": [
    {
     "data": {
      "text/html": [
       "<div>\n",
       "<style scoped>\n",
       "    .dataframe tbody tr th:only-of-type {\n",
       "        vertical-align: middle;\n",
       "    }\n",
       "\n",
       "    .dataframe tbody tr th {\n",
       "        vertical-align: top;\n",
       "    }\n",
       "\n",
       "    .dataframe thead th {\n",
       "        text-align: right;\n",
       "    }\n",
       "</style>\n",
       "<table border=\"1\" class=\"dataframe\">\n",
       "  <thead>\n",
       "    <tr style=\"text-align: right;\">\n",
       "      <th></th>\n",
       "      <th>fighter</th>\n",
       "      <th>max_elo</th>\n",
       "      <th>min_elo</th>\n",
       "      <th>last</th>\n",
       "    </tr>\n",
       "  </thead>\n",
       "  <tbody>\n",
       "    <tr>\n",
       "      <th>1440</th>\n",
       "      <td>Islam Makhachev</td>\n",
       "      <td>2109.54</td>\n",
       "      <td>1000.00</td>\n",
       "      <td>2109.54</td>\n",
       "    </tr>\n",
       "    <tr>\n",
       "      <th>1461</th>\n",
       "      <td>Kamaru Usman</td>\n",
       "      <td>2092.58</td>\n",
       "      <td>1000.00</td>\n",
       "      <td>1676.73</td>\n",
       "    </tr>\n",
       "    <tr>\n",
       "      <th>1364</th>\n",
       "      <td>Leon Edwards</td>\n",
       "      <td>2083.90</td>\n",
       "      <td>928.65</td>\n",
       "      <td>1936.75</td>\n",
       "    </tr>\n",
       "    <tr>\n",
       "      <th>1554</th>\n",
       "      <td>Belal Muhammad</td>\n",
       "      <td>2053.19</td>\n",
       "      <td>946.68</td>\n",
       "      <td>2053.19</td>\n",
       "    </tr>\n",
       "    <tr>\n",
       "      <th>599</th>\n",
       "      <td>Jon Jones</td>\n",
       "      <td>2033.86</td>\n",
       "      <td>1000.00</td>\n",
       "      <td>2033.86</td>\n",
       "    </tr>\n",
       "    <tr>\n",
       "      <th>311</th>\n",
       "      <td>Georges St-Pierre</td>\n",
       "      <td>2012.30</td>\n",
       "      <td>1000.00</td>\n",
       "      <td>2012.30</td>\n",
       "    </tr>\n",
       "    <tr>\n",
       "      <th>1616</th>\n",
       "      <td>Alexander Volkanovski</td>\n",
       "      <td>2010.56</td>\n",
       "      <td>1000.00</td>\n",
       "      <td>1700.03</td>\n",
       "    </tr>\n",
       "    <tr>\n",
       "      <th>927</th>\n",
       "      <td>Khabib Nurmagomedov</td>\n",
       "      <td>1992.11</td>\n",
       "      <td>1000.00</td>\n",
       "      <td>1992.11</td>\n",
       "    </tr>\n",
       "    <tr>\n",
       "      <th>1208</th>\n",
       "      <td>Aljamain Sterling</td>\n",
       "      <td>1990.75</td>\n",
       "      <td>1000.00</td>\n",
       "      <td>1822.01</td>\n",
       "    </tr>\n",
       "    <tr>\n",
       "      <th>883</th>\n",
       "      <td>Stipe Miocic</td>\n",
       "      <td>1990.23</td>\n",
       "      <td>1000.00</td>\n",
       "      <td>1837.11</td>\n",
       "    </tr>\n",
       "    <tr>\n",
       "      <th>1509</th>\n",
       "      <td>Francis Ngannou</td>\n",
       "      <td>1989.11</td>\n",
       "      <td>1000.00</td>\n",
       "      <td>1989.11</td>\n",
       "    </tr>\n",
       "    <tr>\n",
       "      <th>1085</th>\n",
       "      <td>Daniel Cormier</td>\n",
       "      <td>1978.16</td>\n",
       "      <td>1000.00</td>\n",
       "      <td>1749.11</td>\n",
       "    </tr>\n",
       "    <tr>\n",
       "      <th>1762</th>\n",
       "      <td>Israel Adesanya</td>\n",
       "      <td>1961.28</td>\n",
       "      <td>1000.00</td>\n",
       "      <td>1606.36</td>\n",
       "    </tr>\n",
       "    <tr>\n",
       "      <th>752</th>\n",
       "      <td>Charles Oliveira</td>\n",
       "      <td>1958.45</td>\n",
       "      <td>1000.00</td>\n",
       "      <td>1727.02</td>\n",
       "    </tr>\n",
       "    <tr>\n",
       "      <th>935</th>\n",
       "      <td>Max Holloway</td>\n",
       "      <td>1937.75</td>\n",
       "      <td>965.43</td>\n",
       "      <td>1937.75</td>\n",
       "    </tr>\n",
       "    <tr>\n",
       "      <th>1745</th>\n",
       "      <td>Merab Dvalishvili</td>\n",
       "      <td>1914.85</td>\n",
       "      <td>814.65</td>\n",
       "      <td>1914.85</td>\n",
       "    </tr>\n",
       "    <tr>\n",
       "      <th>1043</th>\n",
       "      <td>Tyron Woodley</td>\n",
       "      <td>1913.36</td>\n",
       "      <td>991.10</td>\n",
       "      <td>1444.67</td>\n",
       "    </tr>\n",
       "    <tr>\n",
       "      <th>1027</th>\n",
       "      <td>Robert Whittaker</td>\n",
       "      <td>1906.53</td>\n",
       "      <td>1000.00</td>\n",
       "      <td>1720.59</td>\n",
       "    </tr>\n",
       "    <tr>\n",
       "      <th>796</th>\n",
       "      <td>Dustin Poirier</td>\n",
       "      <td>1899.46</td>\n",
       "      <td>1000.00</td>\n",
       "      <td>1697.33</td>\n",
       "    </tr>\n",
       "    <tr>\n",
       "      <th>2107</th>\n",
       "      <td>Dricus Du Plessis</td>\n",
       "      <td>1892.05</td>\n",
       "      <td>1000.00</td>\n",
       "      <td>1892.05</td>\n",
       "    </tr>\n",
       "  </tbody>\n",
       "</table>\n",
       "</div>"
      ],
      "text/plain": [
       "                    fighter  max_elo  min_elo     last\n",
       "1440        Islam Makhachev  2109.54  1000.00  2109.54\n",
       "1461           Kamaru Usman  2092.58  1000.00  1676.73\n",
       "1364           Leon Edwards  2083.90   928.65  1936.75\n",
       "1554         Belal Muhammad  2053.19   946.68  2053.19\n",
       "599               Jon Jones  2033.86  1000.00  2033.86\n",
       "311       Georges St-Pierre  2012.30  1000.00  2012.30\n",
       "1616  Alexander Volkanovski  2010.56  1000.00  1700.03\n",
       "927     Khabib Nurmagomedov  1992.11  1000.00  1992.11\n",
       "1208      Aljamain Sterling  1990.75  1000.00  1822.01\n",
       "883            Stipe Miocic  1990.23  1000.00  1837.11\n",
       "1509        Francis Ngannou  1989.11  1000.00  1989.11\n",
       "1085         Daniel Cormier  1978.16  1000.00  1749.11\n",
       "1762        Israel Adesanya  1961.28  1000.00  1606.36\n",
       "752        Charles Oliveira  1958.45  1000.00  1727.02\n",
       "935            Max Holloway  1937.75   965.43  1937.75\n",
       "1745      Merab Dvalishvili  1914.85   814.65  1914.85\n",
       "1043          Tyron Woodley  1913.36   991.10  1444.67\n",
       "1027       Robert Whittaker  1906.53  1000.00  1720.59\n",
       "796          Dustin Poirier  1899.46  1000.00  1697.33\n",
       "2107      Dricus Du Plessis  1892.05  1000.00  1892.05"
      ]
     },
     "execution_count": 11,
     "metadata": {},
     "output_type": "execute_result"
    }
   ],
   "source": [
    "min_max_elos.sort_values('max_elo', ascending=False).head(20).round(2)"
   ]
  },
  {
   "cell_type": "markdown",
   "id": "69a05cc8",
   "metadata": {},
   "source": [
    "### Current"
   ]
  },
  {
   "cell_type": "code",
   "execution_count": 12,
   "id": "52a7cfc2",
   "metadata": {},
   "outputs": [
    {
     "data": {
      "text/html": [
       "<div>\n",
       "<style scoped>\n",
       "    .dataframe tbody tr th:only-of-type {\n",
       "        vertical-align: middle;\n",
       "    }\n",
       "\n",
       "    .dataframe tbody tr th {\n",
       "        vertical-align: top;\n",
       "    }\n",
       "\n",
       "    .dataframe thead th {\n",
       "        text-align: right;\n",
       "    }\n",
       "</style>\n",
       "<table border=\"1\" class=\"dataframe\">\n",
       "  <thead>\n",
       "    <tr style=\"text-align: right;\">\n",
       "      <th></th>\n",
       "      <th>fighter</th>\n",
       "      <th>max_elo</th>\n",
       "      <th>min_elo</th>\n",
       "      <th>last</th>\n",
       "    </tr>\n",
       "  </thead>\n",
       "  <tbody>\n",
       "    <tr>\n",
       "      <th>1440</th>\n",
       "      <td>Islam Makhachev</td>\n",
       "      <td>2109.54</td>\n",
       "      <td>1000.00</td>\n",
       "      <td>2109.54</td>\n",
       "    </tr>\n",
       "    <tr>\n",
       "      <th>1554</th>\n",
       "      <td>Belal Muhammad</td>\n",
       "      <td>2053.19</td>\n",
       "      <td>946.68</td>\n",
       "      <td>2053.19</td>\n",
       "    </tr>\n",
       "    <tr>\n",
       "      <th>599</th>\n",
       "      <td>Jon Jones</td>\n",
       "      <td>2033.86</td>\n",
       "      <td>1000.00</td>\n",
       "      <td>2033.86</td>\n",
       "    </tr>\n",
       "    <tr>\n",
       "      <th>311</th>\n",
       "      <td>Georges St-Pierre</td>\n",
       "      <td>2012.30</td>\n",
       "      <td>1000.00</td>\n",
       "      <td>2012.30</td>\n",
       "    </tr>\n",
       "    <tr>\n",
       "      <th>927</th>\n",
       "      <td>Khabib Nurmagomedov</td>\n",
       "      <td>1992.11</td>\n",
       "      <td>1000.00</td>\n",
       "      <td>1992.11</td>\n",
       "    </tr>\n",
       "    <tr>\n",
       "      <th>1509</th>\n",
       "      <td>Francis Ngannou</td>\n",
       "      <td>1989.11</td>\n",
       "      <td>1000.00</td>\n",
       "      <td>1989.11</td>\n",
       "    </tr>\n",
       "    <tr>\n",
       "      <th>935</th>\n",
       "      <td>Max Holloway</td>\n",
       "      <td>1937.75</td>\n",
       "      <td>965.43</td>\n",
       "      <td>1937.75</td>\n",
       "    </tr>\n",
       "    <tr>\n",
       "      <th>1364</th>\n",
       "      <td>Leon Edwards</td>\n",
       "      <td>2083.90</td>\n",
       "      <td>928.65</td>\n",
       "      <td>1936.75</td>\n",
       "    </tr>\n",
       "    <tr>\n",
       "      <th>1745</th>\n",
       "      <td>Merab Dvalishvili</td>\n",
       "      <td>1914.85</td>\n",
       "      <td>814.65</td>\n",
       "      <td>1914.85</td>\n",
       "    </tr>\n",
       "    <tr>\n",
       "      <th>2107</th>\n",
       "      <td>Dricus Du Plessis</td>\n",
       "      <td>1892.05</td>\n",
       "      <td>1000.00</td>\n",
       "      <td>1892.05</td>\n",
       "    </tr>\n",
       "    <tr>\n",
       "      <th>2221</th>\n",
       "      <td>Alex Pereira</td>\n",
       "      <td>1867.44</td>\n",
       "      <td>1000.00</td>\n",
       "      <td>1867.44</td>\n",
       "    </tr>\n",
       "    <tr>\n",
       "      <th>883</th>\n",
       "      <td>Stipe Miocic</td>\n",
       "      <td>1990.23</td>\n",
       "      <td>1000.00</td>\n",
       "      <td>1837.11</td>\n",
       "    </tr>\n",
       "    <tr>\n",
       "      <th>1208</th>\n",
       "      <td>Aljamain Sterling</td>\n",
       "      <td>1990.75</td>\n",
       "      <td>1000.00</td>\n",
       "      <td>1822.01</td>\n",
       "    </tr>\n",
       "    <tr>\n",
       "      <th>2064</th>\n",
       "      <td>Tom Aspinall</td>\n",
       "      <td>1794.36</td>\n",
       "      <td>1000.00</td>\n",
       "      <td>1794.36</td>\n",
       "    </tr>\n",
       "    <tr>\n",
       "      <th>2105</th>\n",
       "      <td>Ilia Topuria</td>\n",
       "      <td>1789.66</td>\n",
       "      <td>1000.00</td>\n",
       "      <td>1789.66</td>\n",
       "    </tr>\n",
       "    <tr>\n",
       "      <th>1911</th>\n",
       "      <td>Arman Tsarukyan</td>\n",
       "      <td>1782.97</td>\n",
       "      <td>985.91</td>\n",
       "      <td>1782.97</td>\n",
       "    </tr>\n",
       "    <tr>\n",
       "      <th>2056</th>\n",
       "      <td>Khamzat Chimaev</td>\n",
       "      <td>1782.14</td>\n",
       "      <td>1000.00</td>\n",
       "      <td>1782.14</td>\n",
       "    </tr>\n",
       "    <tr>\n",
       "      <th>1326</th>\n",
       "      <td>Colby Covington</td>\n",
       "      <td>1820.83</td>\n",
       "      <td>1000.00</td>\n",
       "      <td>1776.63</td>\n",
       "    </tr>\n",
       "    <tr>\n",
       "      <th>1673</th>\n",
       "      <td>Justin Gaethje</td>\n",
       "      <td>1858.03</td>\n",
       "      <td>1000.00</td>\n",
       "      <td>1749.86</td>\n",
       "    </tr>\n",
       "    <tr>\n",
       "      <th>1085</th>\n",
       "      <td>Daniel Cormier</td>\n",
       "      <td>1978.16</td>\n",
       "      <td>1000.00</td>\n",
       "      <td>1749.11</td>\n",
       "    </tr>\n",
       "  </tbody>\n",
       "</table>\n",
       "</div>"
      ],
      "text/plain": [
       "                  fighter  max_elo  min_elo     last\n",
       "1440      Islam Makhachev  2109.54  1000.00  2109.54\n",
       "1554       Belal Muhammad  2053.19   946.68  2053.19\n",
       "599             Jon Jones  2033.86  1000.00  2033.86\n",
       "311     Georges St-Pierre  2012.30  1000.00  2012.30\n",
       "927   Khabib Nurmagomedov  1992.11  1000.00  1992.11\n",
       "1509      Francis Ngannou  1989.11  1000.00  1989.11\n",
       "935          Max Holloway  1937.75   965.43  1937.75\n",
       "1364         Leon Edwards  2083.90   928.65  1936.75\n",
       "1745    Merab Dvalishvili  1914.85   814.65  1914.85\n",
       "2107    Dricus Du Plessis  1892.05  1000.00  1892.05\n",
       "2221         Alex Pereira  1867.44  1000.00  1867.44\n",
       "883          Stipe Miocic  1990.23  1000.00  1837.11\n",
       "1208    Aljamain Sterling  1990.75  1000.00  1822.01\n",
       "2064         Tom Aspinall  1794.36  1000.00  1794.36\n",
       "2105         Ilia Topuria  1789.66  1000.00  1789.66\n",
       "1911      Arman Tsarukyan  1782.97   985.91  1782.97\n",
       "2056      Khamzat Chimaev  1782.14  1000.00  1782.14\n",
       "1326      Colby Covington  1820.83  1000.00  1776.63\n",
       "1673       Justin Gaethje  1858.03  1000.00  1749.86\n",
       "1085       Daniel Cormier  1978.16  1000.00  1749.11"
      ]
     },
     "execution_count": 12,
     "metadata": {},
     "output_type": "execute_result"
    }
   ],
   "source": [
    "min_max_elos.sort_values('last', ascending=False).head(20).round(2)"
   ]
  },
  {
   "cell_type": "code",
   "execution_count": null,
   "id": "1fc3f414",
   "metadata": {},
   "outputs": [],
   "source": []
  },
  {
   "cell_type": "code",
   "execution_count": null,
   "id": "8e0169de",
   "metadata": {},
   "outputs": [],
   "source": []
  },
  {
   "cell_type": "code",
   "execution_count": null,
   "id": "d026e62b",
   "metadata": {},
   "outputs": [],
   "source": []
  },
  {
   "cell_type": "code",
   "execution_count": null,
   "id": "4c5efec1",
   "metadata": {},
   "outputs": [],
   "source": []
  },
  {
   "cell_type": "code",
   "execution_count": null,
   "id": "0e24ffa2",
   "metadata": {},
   "outputs": [],
   "source": []
  },
  {
   "cell_type": "code",
   "execution_count": null,
   "id": "83c6b461",
   "metadata": {},
   "outputs": [],
   "source": []
  },
  {
   "cell_type": "code",
   "execution_count": null,
   "id": "f79fdaf6",
   "metadata": {},
   "outputs": [],
   "source": []
  },
  {
   "cell_type": "code",
   "execution_count": null,
   "id": "531436d7",
   "metadata": {},
   "outputs": [],
   "source": []
  },
  {
   "cell_type": "code",
   "execution_count": null,
   "id": "ef55be96",
   "metadata": {},
   "outputs": [],
   "source": []
  },
  {
   "cell_type": "code",
   "execution_count": null,
   "id": "8fa3a2ce",
   "metadata": {},
   "outputs": [],
   "source": []
  },
  {
   "cell_type": "code",
   "execution_count": null,
   "id": "e01e1ffe",
   "metadata": {},
   "outputs": [],
   "source": []
  }
 ],
 "metadata": {
  "kernelspec": {
   "display_name": "ufc_engine_elo",
   "language": "python",
   "name": "python3"
  },
  "language_info": {
   "codemirror_mode": {
    "name": "ipython",
    "version": 3
   },
   "file_extension": ".py",
   "mimetype": "text/x-python",
   "name": "python",
   "nbconvert_exporter": "python",
   "pygments_lexer": "ipython3",
   "version": "3.10.14"
  }
 },
 "nbformat": 4,
 "nbformat_minor": 5
}
